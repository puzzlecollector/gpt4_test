{
  "nbformat": 4,
  "nbformat_minor": 0,
  "metadata": {
    "colab": {
      "provenance": []
    },
    "kernelspec": {
      "name": "python3",
      "display_name": "Python 3"
    },
    "language_info": {
      "name": "python"
    }
  },
  "cells": [
    {
      "cell_type": "code",
      "execution_count": 25,
      "metadata": {
        "colab": {
          "base_uri": "https://localhost:8080/"
        },
        "id": "07hzUcCZEQPm",
        "outputId": "029a9275-f9c1-4294-b6c8-ad9cdbb54d22"
      },
      "outputs": [
        {
          "output_type": "stream",
          "name": "stdout",
          "text": [
            "Requirement already satisfied: openai in /usr/local/lib/python3.10/dist-packages (0.27.9)\n",
            "Requirement already satisfied: requests>=2.20 in /usr/local/lib/python3.10/dist-packages (from openai) (2.31.0)\n",
            "Requirement already satisfied: tqdm in /usr/local/lib/python3.10/dist-packages (from openai) (4.66.1)\n",
            "Requirement already satisfied: aiohttp in /usr/local/lib/python3.10/dist-packages (from openai) (3.8.5)\n",
            "Requirement already satisfied: charset-normalizer<4,>=2 in /usr/local/lib/python3.10/dist-packages (from requests>=2.20->openai) (3.2.0)\n",
            "Requirement already satisfied: idna<4,>=2.5 in /usr/local/lib/python3.10/dist-packages (from requests>=2.20->openai) (3.4)\n",
            "Requirement already satisfied: urllib3<3,>=1.21.1 in /usr/local/lib/python3.10/dist-packages (from requests>=2.20->openai) (2.0.4)\n",
            "Requirement already satisfied: certifi>=2017.4.17 in /usr/local/lib/python3.10/dist-packages (from requests>=2.20->openai) (2023.7.22)\n",
            "Requirement already satisfied: attrs>=17.3.0 in /usr/local/lib/python3.10/dist-packages (from aiohttp->openai) (23.1.0)\n",
            "Requirement already satisfied: multidict<7.0,>=4.5 in /usr/local/lib/python3.10/dist-packages (from aiohttp->openai) (6.0.4)\n",
            "Requirement already satisfied: async-timeout<5.0,>=4.0.0a3 in /usr/local/lib/python3.10/dist-packages (from aiohttp->openai) (4.0.3)\n",
            "Requirement already satisfied: yarl<2.0,>=1.0 in /usr/local/lib/python3.10/dist-packages (from aiohttp->openai) (1.9.2)\n",
            "Requirement already satisfied: frozenlist>=1.1.1 in /usr/local/lib/python3.10/dist-packages (from aiohttp->openai) (1.4.0)\n",
            "Requirement already satisfied: aiosignal>=1.1.2 in /usr/local/lib/python3.10/dist-packages (from aiohttp->openai) (1.3.1)\n"
          ]
        }
      ],
      "source": [
        "!pip install openai"
      ]
    },
    {
      "cell_type": "code",
      "source": [
        "import openai\n",
        "import numpy as np\n",
        "import pandas as pd\n",
        "import os\n",
        "import time"
      ],
      "metadata": {
        "id": "8LeF-JzJETmW"
      },
      "execution_count": 8,
      "outputs": []
    },
    {
      "cell_type": "markdown",
      "source": [
        "# 자기소개서 항목별 작성"
      ],
      "metadata": {
        "id": "cGhycpDRig_a"
      }
    },
    {
      "cell_type": "code",
      "source": [
        "openai.api_key = \"<MASKED>\"\n",
        "\n",
        "# 경민이형 이력서 ppt에 있는 내용\n",
        "applicant_info = '''김경민(Gyeongmin Kim)\n",
        "학력\n",
        "• 고려대학교 컴퓨터학과 인공지능 박사\n",
        "• 고려대학교 자연어처리 연구실 인공지능 연구원\n",
        "주요이력\n",
        "  수상\n",
        "    • 월간 데이콘 코드 유사성 판단 AI 경진대회 – 1등(2022)\n",
        "    • 문장 유형 분류 AI 경진대회 – 2등(2022)\n",
        "  강의\n",
        "    • 고려대학교, 경희대학교 데이터 프로그래밍 교수 • 출강\n",
        "    • 고려대학교, LG, SKT, 한컴아카데미 등 다수\n",
        "  연구\n",
        "    • 고려대학교 Human-inspired AI 연구소 연구교수\n",
        "추가 연구와 개발 이력\n",
        "• SCI급 저널 9편, 자연어처리 학회 CoLING 2022 논문 2편, SCOPUS 2편을 포함한 국내외 논문 50여 편 출판\n",
        "• Google scholar: https://scholar.google.com/citations?user=fsIXBtMAAAAJ&hl=ko\n",
        "• Github: https://github.com/Gyeongmin47\n",
        "'''\n",
        "\n",
        "# 실제로 우리가 성사시킨 위시켓 외주 채용 페이지 설명\n",
        "employer_info = '''자연어처리(BERT, GPT)이용 유사판례 제공 웹사이트 구축 \\n\\n 모집 마감일\n",
        "\n",
        "2023년 05월 12일\n",
        "\n",
        "\n",
        "예상 시작일\n",
        "\n",
        "계약 체결 이후, 즉시 시작\n",
        "\n",
        "\n",
        "진행 분류\n",
        "\n",
        "신규 프로젝트\n",
        "\n",
        "\n",
        "기획 상태\n",
        "\n",
        "아이디어만 있는 상태\n",
        "\n",
        "\n",
        "매니징 경험\n",
        "\n",
        "프로젝트 매니징 경험 없음\n",
        "\n",
        "\n",
        "협업 예정 인력\n",
        "\n",
        "기획자, 개발자, 디자이너\n",
        "\n",
        "\n",
        "우선 순위\n",
        "\n",
        "[1순위] 금액\n",
        "[2순위] 산출물 완성도\n",
        "[3순위] 일정 준수\n",
        "업무 내용\n",
        "프로젝트 개요 :\n",
        "- 자연어처리(BERT, GPT)이용 유사판례 제공 웹사이트 구축\n",
        "\n",
        "프로젝트의 현재 상황 :\n",
        "- 아이디어 단계이며 핵심 기능을 정의한 상태입니다. 구체적인 기획은 함께 의뢰드리고자 합니다.\n",
        "\n",
        "진행 계획 :\n",
        "- 전체 사업은 11월까지 진행되나 본 의뢰 내용은 3개월 정도 안에 완료되길 희망합니다. 개발 일정은 미팅 시 협의 가능합니다.\n",
        "\n",
        "지원 플랫폼 :\n",
        "- Web 사이트\n",
        "\n",
        "소비자 타겟 :\n",
        "- 로펌과 개인 변호사 사무실(B2B SaaS) / 변호사 업무 효율과 퀄리티의 비약적 상승을 가져올 수 있음.\n",
        "\n",
        "의뢰 목표 :\n",
        "- 시제품 제작\n",
        "\n",
        "필요 요소 :\n",
        "- 상세 기획( 요구 사항 정의, 기능 정의, 화면 설계 등 )\n",
        "- UIUX 디자인\n",
        "- 웹사이트 개발\n",
        "- 관리자페이지 개발\n",
        "- semantic similarity 측정 알고리즘\n",
        "- 판례 데이터베이스 구축\n",
        "- 서버 구축\n",
        "\n",
        "핵심 기능:\n",
        "- 변호사가 사건을 구체적으로 입력한 후, 챗봇에게 \"유사 판례를 찾아줘\", \"관련 법률을 보여줘\", \"예상 승소율을 알려줘\" 와 같은 질문을 하면 맥락을 이해하고 답변함\n",
        "- BERT, GPT 등의 자연어 처리 모델을 이용하여 유저가 입력하는 텍스트와 데이터셋의 판례 간의 semantic similarity(코사인 유사도 등)를 측정하고, 점수가 높은 판례 상위 10개 리스트를 유사도와 함께 제시.\n",
        "- 첨부된 이미지를 참고해주세요.\n",
        "\n",
        "그 외 기능 :\n",
        "1) 로그인 / 회원가입(SNS로그인 필요)\n",
        "2) [옵션] 정기 결제 ( 구독료 BM )\n",
        "* 예산 내에서 가능하다면 이번 과업에서 진행하고 싶습니다. 예산이 초과되는 상황이라면 제외하고 진행 가능합니다.\n",
        "3) 마이페이지\n",
        "* 이전 문의 내용과 결과를 보여줍니다.\n",
        "4) 챗봇의 답변에서 판례 link 를 삽입하여 클릭 시 바로 이동하는 기능도 구현되면 좋을 것 같습니다.\n",
        "\n",
        "우대 사항 :\n",
        "- 유사 서비스 개발 경험 있으신 개발 팀을 우대합니다.\n",
        "\n",
        "개발 환경/언어 :\n",
        "- 제안해주세요.\n",
        "\n",
        "산출물 :\n",
        "- 기획안\n",
        "- 디자인 원본\n",
        "- 소스 코드 원본( 웹과 알고리즘, 판례DB 등 일체 )\n",
        "\n",
        "참고 자료 :\n",
        "- 연세대 언어정보학회의 '딥러닝 알고리즘을 이용한 유사 판례 매칭 데이터셋 구축 방안 연구' 논문과, 미국의 casetext사의 서비스가 이해를 도울 수 있음.\n",
        "\n",
        "모집 요건\n",
        "지원자 필수 요건\n",
        "\n",
        "법인사업자\n",
        "\n",
        "\n",
        "업력 1년 이상 (사업자등록증 기준)\n",
        "\n",
        "\n",
        "보증보험 발급 가능\n",
        "\n",
        "\n",
        "월 단위 유지보수, 고도화 프로젝트를 의뢰 예정입니다. 미팅 시 논의가 필요합니다.\n",
        "\n",
        "\n",
        "정부지원사업 또는 정부지원 연구과제입니다.\n",
        "\n",
        "지원 전 질문\n",
        "지원서 작성시 클라이언트의 질문에 답변해 주세요.\n",
        "\n",
        "\n",
        "유사 서비스 개발 경험이 있으신가요?\n",
        "\n",
        "\n",
        "개발에 착수할 수 있는 인원이 몇인가요?\n",
        "\n",
        "미팅\n",
        "사전 미팅 방식\n",
        "오프라인\n",
        "\n",
        "진행 중 미팅\n",
        "온라인 (카카오톡, 화상미팅 등) , 주 2회\n",
        "\n",
        "클라이언트 위치\n",
        "경기도 용인시 처인구\n",
        "'''\n",
        "\n",
        "word_count = 500\n",
        "\n",
        "query1 = f\"구직자 정보와 채용 정보가 주어졌을때 자기소개서의 지원동기 항목을 {word_count}자 이내로 작성해줘. \\n 구직자 정보:{applicant_info} \\n 채용정보:{employer_info}\"\n",
        "\n",
        "\n",
        "response = openai.ChatCompletion.create(\n",
        "    model = \"gpt-4\",\n",
        "    messages = [\n",
        "        {\"role\":\"user\", \"content\":query1}\n",
        "    ],\n",
        "    temperature = 0.5 # hyperparameter. Default is probably 0.9\n",
        ")\n",
        "\n",
        "motivation = response[\"choices\"][0][\"message\"][\"content\"]\n"
      ],
      "metadata": {
        "id": "0f8AB89ZEcHX"
      },
      "execution_count": 31,
      "outputs": []
    },
    {
      "cell_type": "code",
      "source": [
        "print(motivation)"
      ],
      "metadata": {
        "colab": {
          "base_uri": "https://localhost:8080/"
        },
        "id": "Ged5Jop_F9Af",
        "outputId": "ad381799-090d-4b55-ee73-186bf83fe073"
      },
      "execution_count": 32,
      "outputs": [
        {
          "output_type": "stream",
          "name": "stdout",
          "text": [
            "안녕하세요, 김경민입니다. 저는 고려대학교에서 인공지능 박사 학위를 받았으며, 현재는 자연어처리 연구실에서 인공지능 연구원으로 활동하고 있습니다. 또한 다양한 AI 경진대회에서 수상 경력이 있고, 고려대학교와 경희대학교에서 데이터 프로그래밍 강의를 맡아왔습니다. \n",
            "\n",
            "이번에 자연어 처리를 이용한 유사 판례 제공 웹사이트 구축 프로젝트에 지원하게 된 것은, 제가 지난 수년간 연구하고 개발해온 기술을 실제 서비스에 적용해보고 싶은 마음에서입니다. 특히 변호사들의 업무 효율을 향상시키는 서비스를 만드는 것은 사회에 큰 기여를 할 수 있을 것이라 생각합니다.\n",
            "\n",
            "제가 이 프로젝트에 참여하게 된다면, 제가 가진 전문 지식과 경험을 바탕으로 프로젝트의 성공을 위해 최선을 다하겠습니다. 특히 BERT, GPT 등의 자연어 처리 모델을 이용한 semantic similarity 측정 알고리즘 개발과 판례 데이터베이스 구축에 있어서는 제가 큰 도움이 될 수 있을 것입니다.\n",
            "\n",
            "또한, 제가 이전에 진행했던 연구 및 개발 프로젝트에서는 팀원들과의 원활한 커뮤니케이션과 협업을 통해 프로젝트를 성공적으로 완수해온 경험이 있습니다. 이러한 경험을 바탕으로 이번 프로젝트에서도 팀원들과의 효과적인 협업을 통해 프로젝트를 성공적으로 완수할 수 있을 것이라 확신합니다.\n",
            "\n",
            "마지막으로, 제가 이 프로젝트에 참여하게 된다면, 최선의 노력을 다해 프로젝트의 성공을 위해 노력하겠습니다. 감사합니다.\n"
          ]
        }
      ]
    },
    {
      "cell_type": "code",
      "source": [
        "query2 = f\"구직자 정보와 채용 정보가 주어졌을때 지원자의 자기소개서의 성장과정 항목을 {word_count}자 이내로 작성해줘. \\n 구직자 정보:{applicant_info} \\n 채용정보:{employer_info}\"\n",
        "\n",
        "\n",
        "response = openai.ChatCompletion.create(\n",
        "    model = \"gpt-4\",\n",
        "    messages = [\n",
        "        {\"role\":\"user\", \"content\":query2},\n",
        "    ],\n",
        "    temperature = 0.5\n",
        ")\n",
        "\n",
        "growth_process = response[\"choices\"][0][\"message\"][\"content\"]\n"
      ],
      "metadata": {
        "id": "G7ruKVr4G1gr"
      },
      "execution_count": 33,
      "outputs": []
    },
    {
      "cell_type": "code",
      "source": [
        "print(growth_process)"
      ],
      "metadata": {
        "colab": {
          "base_uri": "https://localhost:8080/"
        },
        "id": "LcSI-jKfMtLi",
        "outputId": "99556208-206d-4287-cf7e-f0fa0260af51"
      },
      "execution_count": 34,
      "outputs": [
        {
          "output_type": "stream",
          "name": "stdout",
          "text": [
            "안녕하세요, 저는 고려대학교 컴퓨터학과에서 인공지능 박사학위를 받은 김경민입니다. 대학원 시절부터 자연어처리에 관심을 가지고 연구하였고, 이를 바탕으로 다수의 논문을 발표하였습니다. 또한, 다양한 AI 경진대회에서 좋은 성적을 거두며 실력을 인정받았습니다. 또한, 고려대학교와 LG, SKT, 한컴아카데미 등에서 데이터 프로그래밍 강의를 진행하며 이론과 실무를 모두 경험하였습니다. 이러한 배경을 바탕으로, 자연어처리를 활용한 유사판례 제공 웹사이트 구축 프로젝트에 지원하게 되었습니다. 저의 연구와 경험을 바탕으로 프로젝트를 성공적으로 완수하겠습니다. 감사합니다.\n"
          ]
        }
      ]
    },
    {
      "cell_type": "code",
      "source": [
        "query3 = f\"구직자 정보와 채용 정보가 주어졌을때 지원자의 자기소개서의 입사 후 포부 항목을 {word_count}자 이내로 작성해줘. \\n 구직자 정보:{applicant_info} \\n 채용정보:{employer_info}\"\n",
        "\n",
        "\n",
        "response = openai.ChatCompletion.create(\n",
        "    model = \"gpt-4\",\n",
        "    messages = [\n",
        "        {\"role\":\"user\", \"content\":query3}\n",
        "    ],\n",
        "    temperature = 0.5\n",
        ")\n",
        "\n",
        "goals_after_joining = response[\"choices\"][0][\"message\"][\"content\"]\n"
      ],
      "metadata": {
        "id": "PSnFxUmnMtJx"
      },
      "execution_count": 35,
      "outputs": []
    },
    {
      "cell_type": "code",
      "source": [
        "print(goals_after_joining)"
      ],
      "metadata": {
        "colab": {
          "base_uri": "https://localhost:8080/"
        },
        "id": "wrneUhs9MtH_",
        "outputId": "d1624e13-befa-4ae7-b150-0b9ee35319f6"
      },
      "execution_count": 36,
      "outputs": [
        {
          "output_type": "stream",
          "name": "stdout",
          "text": [
            "안녕하세요, 김경민입니다. 고려대학교에서 인공지능 박사학위를 받고, 자연어처리 연구실에서 연구원으로 활동하였습니다. 제 연구와 개발 이력을 통해 높은 수준의 자연어 처리 기술을 보유했음을 입증하였습니다. \n",
            "\n",
            "본 프로젝트는 제 전문성과 연구 경험을 바탕으로, 변호사들의 업무 효율을 향상시키는 유사판례 제공 웹사이트를 구축하는 것입니다. BERT, GPT 등의 최신 자연어 처리 모델을 활용하여, 사용자가 입력하는 텍스트와 판례 간의 semantic similarity를 측정하고, 이를 바탕으로 가장 관련성이 높은 판례를 제시하는 것이 주요 목표입니다. \n",
            "\n",
            "입사 후, 저는 이 프로젝트를 성공적으로 완료하고, 웹사이트가 변호사들에게 유용한 도구가 될 수 있도록 만드는 것을 목표로 하겠습니다. 또한, 이 프로젝트를 통해 얻은 경험과 지식을 바탕으로, 회사의 다른 프로젝트에도 기여하고 싶습니다. \n",
            "\n",
            "제가 이루고자 하는 포부는, 인공지능 기술을 활용하여 사회에 긍정적인 영향을 미치는 것입니다. 이 프로젝트를 통해, 그 목표를 실현하는 데 한 걸음 더 나아가고 싶습니다. 감사합니다.\n"
          ]
        }
      ]
    },
    {
      "cell_type": "code",
      "source": [
        "query4 = f\"구직자 정보와 채용 정보가 주어졌을때 지원자의 자기소개서의 성격의 장단점 항목을 {word_count}자 이내로 작성해줘. \\n 구직자 정보:{applicant_info} \\n 채용정보:{employer_info}\"\n",
        "\n",
        "\n",
        "response = openai.ChatCompletion.create(\n",
        "    model = \"gpt-4\",\n",
        "    messages = [\n",
        "        {\"role\":\"user\", \"content\":query4}\n",
        "    ],\n",
        "    temperature = 0.5\n",
        ")\n",
        "\n",
        "strengths_and_weaknesses_of_character = response[\"choices\"][0][\"message\"][\"content\"]\n"
      ],
      "metadata": {
        "id": "UcFDGfvEMtGB"
      },
      "execution_count": 37,
      "outputs": []
    },
    {
      "cell_type": "code",
      "source": [
        "print(strengths_and_weaknesses_of_character)"
      ],
      "metadata": {
        "colab": {
          "base_uri": "https://localhost:8080/"
        },
        "id": "3OFimbvgYwAi",
        "outputId": "29e61020-e75b-4001-f80e-3b6f7b0f4bc8"
      },
      "execution_count": 38,
      "outputs": [
        {
          "output_type": "stream",
          "name": "stdout",
          "text": [
            "장점: 김경민 박사는 인공지능과 자연어 처리 분야에서 국내외 논문 50여 편을 출판하고, 다양한 AI 경진대회에서 상위권을 차지하였습니다. 이는 그의 전문성과 역량을 입증해주는 결과입니다. 또한, 고려대학교와 경희대학교에서 데이터 프로그래밍 강의를 진행한 경험을 보유하고 있어, 복잡한 개념을 명확하게 전달하고, 프로젝트 팀원들과 원활한 커뮤니케이션을 이끌 수 있습니다. \n",
            "\n",
            "단점: 그러나 프로젝트 관리 경험이 없다는 점은 약간의 단점으로 작용할 수 있습니다. 이로 인해 프로젝트의 일정 관리나 리소스 할당 등에 어려움을 겪을 수 있습니다. 또한, 법률 분야에 대한 지식이 부족할 수 있어, 판례 데이터베이스 구축에 어려움을 겪을 수 있습니다. 이를 극복하기 위해 법률 분야 전문가와의 협업이 필요할 것입니다.\n"
          ]
        }
      ]
    },
    {
      "cell_type": "markdown",
      "source": [
        "# 각 자소서 항목 합치기\n",
        "\n",
        "각 내용을 독립적으로 작성할시 겹치는 부분이 있기 때문에 한번에 매끄럽게 합치는 부분도 GPT-4를 통해서 구현 가능해 보입니다."
      ],
      "metadata": {
        "id": "RB2BVX8V0kKH"
      }
    },
    {
      "cell_type": "code",
      "source": [
        "query5 = f\"이미 작성된 지원동기, 성장과정, 입사 후 포부, 성격의 장단점 항목들을 적절히 합쳐서 자소서를 작성해줘. 자소서에 지원동기, 성장과정, 입사 후 포부, 성격의 장단점 섹션을 나눠서 작성해. 지원자의 시점으로 1인칭으로 글을 작성해.\\n 지원동기: {motivation} \\n\\n 성장과정: {growth_process} \\n\\n 입사 후 포부: {goals_after_joining} \\n\\n 성격의 장단점:{strengths_and_weaknesses_of_character}\"\n",
        "\n",
        "\n",
        "response = openai.ChatCompletion.create(\n",
        "    model = \"gpt-4\",\n",
        "    messages = [\n",
        "        {\"role\":\"user\", \"content\":query5}\n",
        "    ],\n",
        "    temperature = 0.5\n",
        ")\n",
        "\n",
        "job_application = response[\"choices\"][0][\"message\"][\"content\"]\n"
      ],
      "metadata": {
        "id": "h8wpqNhz0kk0"
      },
      "execution_count": 47,
      "outputs": []
    },
    {
      "cell_type": "code",
      "source": [
        "print(job_application)"
      ],
      "metadata": {
        "colab": {
          "base_uri": "https://localhost:8080/"
        },
        "id": "PThJ_qqD1RoW",
        "outputId": "af61f632-bb3d-4588-f681-bae138612d9e"
      },
      "execution_count": 48,
      "outputs": [
        {
          "output_type": "stream",
          "name": "stdout",
          "text": [
            "지원동기\n",
            "\n",
            "안녕하세요, 저는 고려대학교에서 인공지능 박사 학위를 받은 김경민입니다. 현재 자연어처리 연구실에서 인공지능 연구원으로 활동하고 있으며, 다양한 AI 경진대회에서 수상 경력이 있고 고려대학교와 경희대학교에서 데이터 프로그래밍 강의를 맡아왔습니다. 이번에 자연어 처리를 이용한 유사 판례 제공 웹사이트 구축 프로젝트에 지원하게 된 것은, 제가 지난 수년간 연구하고 개발해온 기술을 실제 서비스에 적용해보고 싶은 마음에서입니다. 특히 변호사들의 업무 효율을 향상시키는 서비스를 만드는 것은 사회에 큰 기여를 할 수 있을 것이라 생각합니다.\n",
            "\n",
            "성장과정\n",
            "\n",
            "대학원 시절부터 자연어처리에 관심을 가지고 연구하였고, 이를 바탕으로 다수의 논문을 발표하였습니다. 또한, 다양한 AI 경진대회에서 좋은 성적을 거두며 실력을 인정받았습니다. 고려대학교와 LG, SKT, 한컴아카데미 등에서 데이터 프로그래밍 강의를 진행하며 이론과 실무를 모두 경험하였습니다.\n",
            "\n",
            "입사 후 포부\n",
            "\n",
            "본 프로젝트를 통해 제 전문성과 연구 경험을 바탕으로, 변호사들의 업무 효율을 향상시키는 유사판례 제공 웹사이트를 구축하는 것을 목표로 하고 있습니다. 입사 후, 저는 이 프로젝트를 성공적으로 완료하고, 웹사이트가 변호사들에게 유용한 도구가 될 수 있도록 만드는 것을 목표로 하겠습니다. 또한, 이 프로젝트를 통해 얻은 경험과 지식을 바탕으로, 회사의 다른 프로젝트에도 기여하고 싶습니다. 제가 이루고자 하는 포부는, 인공지능 기술을 활용하여 사회에 긍정적인 영향을 미치는 것입니다.\n",
            "\n",
            "성격의 장단점\n",
            "\n",
            "제 장점은 인공지능과 자연어 처리 분야에서 국내외 논문 50여 편을 출판하고, 다양한 AI 경진대회에서 상위권을 차지한 것입니다. 이는 제 전문성과 역량을 입증해주는 결과입니다. 또한, 고려대학교와 경희대학교에서 데이터 프로그래밍 강의를 진행한 경험을 보유하고 있어, 복잡한 개념을 명확하게 전달하고, 프로젝트 팀원들과 원활한 커뮤니케이션을 이끌 수 있습니다. 하지만 단점으로는 프로젝트 관리 경험이 없어, 프로젝트의 일정 관리나 리소스 할당 등에 어려움을 겪을 수 있습니다. 또한, 법률 분야에 대한 지식이 부족해, 판례 데이터베이스 구축에 어려움을 겪을 수 있습니다. 이를 극복하기 위해 법률 분야 전문가와의 협업이 필요할 것입니다.\n"
          ]
        }
      ]
    },
    {
      "cell_type": "markdown",
      "source": [
        "# 작성된 자소서 바탕으로 추천서 작성"
      ],
      "metadata": {
        "id": "CEDV0PrFiaym"
      }
    },
    {
      "cell_type": "code",
      "source": [
        "applicant_name = \"김경민\"\n",
        "company_name = \"AI FENCE\"\n",
        "job_position = \"AI 연구원\"\n",
        "\n",
        "\n",
        "application_content = f'''지원동기:{motivation} \\n 성장과정:{growth_process} \\n 입사 후 포부:{goals_after_joining} \\n 성격의 장단점:{strengths_and_weaknesses_of_character}'''\n",
        "\n",
        "query = f\"취업컨설팅 기관 (주)두원잡에서 {applicant_name} 지원자를 {company_name} 회사에 {job_position} 직무로 추천하는 추천서를 작성해줘.\\n\\n\" + application_content\n",
        "\n",
        "\n",
        "response = openai.ChatCompletion.create(\n",
        "    model = \"gpt-4\",\n",
        "    messages = [\n",
        "        {\"role\":\"user\", \"content\":query}\n",
        "    ]\n",
        ")\n",
        "\n",
        "\n",
        "recommendation = response[\"choices\"][0][\"message\"][\"content\"]\n"
      ],
      "metadata": {
        "id": "QhWMTmhDYwy_"
      },
      "execution_count": 39,
      "outputs": []
    },
    {
      "cell_type": "code",
      "source": [
        "print(recommendation)"
      ],
      "metadata": {
        "colab": {
          "base_uri": "https://localhost:8080/"
        },
        "id": "5LPYmaR-ceq2",
        "outputId": "16176746-eb11-462f-f996-f99e9193c7e4"
      },
      "execution_count": 40,
      "outputs": [
        {
          "output_type": "stream",
          "name": "stdout",
          "text": [
            "(주)두원잡  \n",
            "이사장님께\n",
            "\n",
            "먼저, AI Fence 회사의 풍부한 비전과 역할에 대한 저희의 감사함을 전합니다. AI 분야는 빠르게 변화하고 있고, 이를 일관되게 유지하고 추진하는 회사가 필요합니다. 그리하여 김경민 박사를 가장 적합한 후보자로 추천하게 되었습니다.\n",
            "\n",
            "김경민 박사는 인공지능 및 자연어 처리 분야에 깊은 전문성을 가지고 있습니다. 고려대학교에서의 박사학위 취득 뿐만 아니라, 다양한 AI 경진대회의 우수한 성적은 그의 능력을 증명해줍니다. 또한, 교육의 차원에서 고려대학교와 경희대학교에서 데이터 프로그래밍 강의를 진행하면서, 실제 서비스에 적용시키는 능력을 키웠습니다.\n",
            "\n",
            "김경민 박사는 자연어 처리를 이용한 유사 판례 제공 웹사이트의 구축 프로젝트에 열의를 보였습니다. 이를 통해 변호사들의 업무 효율을 향상시키고, 사회에 기여하려는 야망을 가지고 있습니다. 그가 가진 전문 지식과 BERT, GPT 등의 최신 모델에 대한 이해는 팀에 더 큰 가치를 더해줄 것입니다.\n",
            "\n",
            "그의 단점에 대해 말하자면, 프로젝트 관리 경험의 부재와 법률 분야에 대한 지식이 부족하다는 점입니다. 하지만 이러한 단점은 그의 끊임없는 추구와 학습 능력, 그리고 팀원들과의 협력을 통해 충분히 극복할 수 있다고 확신합니다. 그는 부족한 지식을 채워넣기 위해 항상 노력하는 성격을 가지고 있고, 팀의 동료들과 원활하게 어울릴 수 있는 방법을 알고 있습니다.\n",
            "\n",
            "이러한 이유로 인해, (주)두원잡은 김경민 박사를 AI 연구원으로서 AI Fence 회사에 추천하게 되었습니다. 그의 전문성과 잠재력은 회사의 미래 성장에 결정적인 역할을 할 것이라 확신합니다.\n",
            "\n",
            "가장 존경하는 이사님께서 김경민 박사를 귀사의 AI 연구원으로 선정해 주시면 대단히 감사하겠습니다.\n",
            "\n",
            "(주)두원잡 \n",
            "이사장 OOO 드림.\n"
          ]
        }
      ]
    },
    {
      "cell_type": "markdown",
      "source": [
        "# 면접 질문지 도출\n",
        "\n",
        "채용공고 정보를 prompt의 일부로 넘겨줍니다"
      ],
      "metadata": {
        "id": "PQBeQScpo34X"
      }
    },
    {
      "cell_type": "code",
      "source": [
        "query = f\"{company_name}회사에 {job_position}직무로 지원하는 {applicant_name} 지원자의 면접 질문 5가지를 추천해줘. \\n\\n\" + \"채용공고:\\n\" + employer_info\n",
        "\n",
        "response = openai.ChatCompletion.create(\n",
        "    model = \"gpt-4\",\n",
        "    messages = [\n",
        "        {\"role\":\"user\", \"content\":query}\n",
        "    ]\n",
        ")\n",
        "\n",
        "\n",
        "possible_questions = response[\"choices\"][0][\"message\"][\"content\"]\n"
      ],
      "metadata": {
        "id": "dkGXmX64ou_y"
      },
      "execution_count": 41,
      "outputs": []
    },
    {
      "cell_type": "code",
      "source": [
        "print(possible_questions)"
      ],
      "metadata": {
        "colab": {
          "base_uri": "https://localhost:8080/"
        },
        "id": "xliAZs3mp4L-",
        "outputId": "d52bdc99-f30c-4b46-aeac-1090ab9bbc3f"
      },
      "execution_count": 42,
      "outputs": [
        {
          "output_type": "stream",
          "name": "stdout",
          "text": [
            "1) 이전에 수행했던 자연어 처리 프로젝트 중 가장 기억에 남는 프로젝트는 무엇인가요? 그 프로젝트에서 가장 어려웠던 점과 그것을 어떻게 극복했는지 설명해주세요. \n",
            "2) BERT, GPT 등의 자연어 처리 모델을 사용한 경험을 바탕으로, 해당 모델들을 활용하여 판례 유사도를 어떻게 측정할 것인지 구체적인 알고리즘 및 방법론에 대해 설명해주세요.\n",
            "3) 웹사이트에서 회원가입, 로그인, 마이페이지 기능 외에도 변호사의 질문을 입력받아 유사 판례를 찾아주는 챗봇 기능을 개발해야 합니다. 이러한 기능 구현에 대한 경험이 있다면 그 경험에서 얻은 교훈과 노하우를 설명해주세요.\n",
            "4) 개발 과정 중 저희 회사와의 소통이 중요합니다. 진행 상황을 투명하게 공유하고 피드백을 적극적으로 수렴하는 방식으로 프로젝트를 어떻게 진행하실지 알려주세요.\n",
            "5) 웹사이트 개발 뿐만 아니라 관리자 페이지 개발 및 서버 구축까지 요구되는 프로젝트입니다. 전반적인 웹서비스 개발 및 배포 과정에 대해 구체적으로 설명해주시고, 이 경험을 바탕으로 본 프로젝트를 어떻게 관리할 것인지 계획을 제시해주세요.\n"
          ]
        }
      ]
    },
    {
      "cell_type": "code",
      "source": [],
      "metadata": {
        "id": "3JUzpetkp5AY"
      },
      "execution_count": null,
      "outputs": []
    }
  ]
}